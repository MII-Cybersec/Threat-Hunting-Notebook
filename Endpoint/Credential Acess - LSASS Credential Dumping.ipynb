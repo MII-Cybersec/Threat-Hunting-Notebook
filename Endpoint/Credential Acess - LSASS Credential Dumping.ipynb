{
 "cells": [
  {
   "cell_type": "markdown",
   "metadata": {},
   "source": [
    "# Credential Access Threat Hunting - LSASS Credential Dumping\n",
    "### Author: Bintang N M\n",
    "The Windows Task Manager may be used to dump the memory space of lsass.exe to disk for processing with a credential access tool such as Mimikatz. This is performed by launching Task Manager as a privileged user, selecting lsass.exe, and clicking “Create dump file”. This saves a dump file to disk with a deterministic name that includes the name of the process being dumped.\n",
    "\n",
    "This requires filesystem data to determine whether files have been created.\n",
    "\n",
    "## Use Case\n",
    "### Objective\n",
    "Identify LSASS memory dumping. LSASS memory may contain many credentials including logged on users clear-text passwords, Kerberos tickets, etc. \n",
    "\n",
    "### Logs Requirements\n",
    "Microsoft Windows Sysmon\n",
    "\n",
    "### References\n",
    "MITRE references: https://car.mitre.org/analytics/CAR-2019-08-001/ <br>\n",
    "sysmon file as json: https://raw.githubusercontent.com/OTRF/mordor/master/datasets/small/windows/credential_access/host/rdp_interactive_taskmanager_lsass_dump.zip"
   ]
  },
  {
   "cell_type": "code",
   "execution_count": 1,
   "metadata": {},
   "outputs": [],
   "source": [
    "import evtx\n",
    "import xml.etree.ElementTree as ET\n",
    "import json\n",
    "import re"
   ]
  },
  {
   "cell_type": "code",
   "execution_count": 4,
   "metadata": {},
   "outputs": [],
   "source": [
    "evtx_file = 'logs/Credential Access/rdp_interactive_taskmanager_lsass_dump_2020-09-22043748.json'"
   ]
  },
  {
   "cell_type": "code",
   "execution_count": 5,
   "metadata": {},
   "outputs": [],
   "source": [
    "with open(evtx_file, 'r') as f:\n",
    "    t = f.read().split('\\n')\n",
    "    \n",
    "x = json.loads(json.dumps(list(t)))"
   ]
  },
  {
   "cell_type": "markdown",
   "metadata": {},
   "source": [
    "## Look for .dmp file creation from task manager\n",
    "File creation event id is 11<br>\n",
    "Use regex to search .dmp file for element EventData.TargetFilename"
   ]
  },
  {
   "cell_type": "code",
   "execution_count": 13,
   "metadata": {},
   "outputs": [
    {
     "name": "stdout",
     "output_type": "stream",
     "text": [
      "1\n"
     ]
    }
   ],
   "source": [
    "temp_events = []\n",
    "error_datas = []\n",
    "\n",
    "for xs in x:\n",
    "    try:\n",
    "        if (json.loads(xs)['EventID'] == 11): #filter by event id\n",
    "            if re.search(\"dmp\", json.loads(xs)['TargetFilename'], re.IGNORECASE): #filter dmp on TargetFilename using regex\n",
    "                temp_events += [xs]\n",
    "    except:\n",
    "        error_datas += [xs]\n",
    "print(len(temp_events))"
   ]
  },
  {
   "cell_type": "code",
   "execution_count": 14,
   "metadata": {},
   "outputs": [
    {
     "data": {
      "text/plain": [
       "{'Keywords': -9223372036854775808,\n",
       " 'SeverityValue': 2,\n",
       " 'EventReceivedTime': '2020-09-22 04:38:29',\n",
       " 'EventID': 11,\n",
       " 'ProviderGuid': '{5770385F-C22A-43E0-BF4C-06F5698FFBD9}',\n",
       " 'ExecutionProcessID': 3172,\n",
       " 'Channel': 'Microsoft-Windows-Sysmon/Operational',\n",
       " 'host': 'wec.internal.cloudapp.net',\n",
       " 'AccountType': 'User',\n",
       " 'UserID': 'S-1-5-18',\n",
       " 'ProcessGuid': '{b34bc01c-b7f3-5f69-df02-000000000900}',\n",
       " 'ThreadID': 4048,\n",
       " 'EventType': 'INFO',\n",
       " 'Opcode': 'Info',\n",
       " 'EventTime': '2020-09-22 04:38:27',\n",
       " '@timestamp': '2020-09-22T08:38:29.039Z',\n",
       " 'TargetFilename': 'C:\\\\Users\\\\pgustavo\\\\AppData\\\\Local\\\\Temp\\\\lsass.DMP',\n",
       " 'SourceModuleType': 'im_msvistalog',\n",
       " 'port': 64545,\n",
       " 'AccountName': 'SYSTEM',\n",
       " 'RecordNumber': 3407010,\n",
       " 'Task': 11,\n",
       " 'Domain': 'NT AUTHORITY',\n",
       " '@version': '1',\n",
       " 'OpcodeValue': 0,\n",
       " 'CreationUtcTime': '2020-09-22 08:38:27.371',\n",
       " 'SourceModuleName': 'eventlog',\n",
       " 'Severity': 'INFO',\n",
       " 'SourceName': 'Microsoft-Windows-Sysmon',\n",
       " 'Version': 2,\n",
       " 'Image': 'C:\\\\windows\\\\system32\\\\taskmgr.exe',\n",
       " 'Category': 'File created (rule: FileCreate)',\n",
       " 'UtcTime': '2020-09-22 08:38:27.371',\n",
       " 'Hostname': 'WORKSTATION5.theshire.local',\n",
       " 'RuleName': '-',\n",
       " 'tags': ['mordorDataset']}"
      ]
     },
     "execution_count": 14,
     "metadata": {},
     "output_type": "execute_result"
    }
   ],
   "source": [
    "json.loads(temp_events[0])"
   ]
  },
  {
   "cell_type": "markdown",
   "metadata": {},
   "source": [
    "## Look for process access event on lsass.exe\n",
    "Process access event id is 10<br>\n",
    "Use regex to search lsass.exe file for element EventData.TargetFilename<br>\n",
    "Use regex to look into EventData.SourceImage for {\"taskmgr.exe\", \"procexp64.exe\", \"procexp.exe\", \"lsm.exe\", \"csrss.exe\", \"wininit.exe\", \"wmiprvse.exe\"}"
   ]
  },
  {
   "cell_type": "code",
   "execution_count": 17,
   "metadata": {},
   "outputs": [
    {
     "name": "stdout",
     "output_type": "stream",
     "text": [
      "7\n"
     ]
    }
   ],
   "source": [
    "temp_event = []\n",
    "error_data = []\n",
    "\n",
    "for xs in x:\n",
    "    try:\n",
    "        #if clause for filtering event ID and using regex for filtering \"lsass.exe\" from TargetImage\n",
    "        if (json.loads(xs)['EventID'] == 10) and (re.search(\"lsass.exe\\Z\", json.loads(xs)['TargetImage'])):\n",
    "            #if clause for filtering event using regex\n",
    "            if re.search(\"taskmgr.exe\\Z|procexp64.exe\\Z|procexp.exe\\Z|lsm.exe\\Z|csrss.exe\\Z|wininit.exe\\Z|wmiprvse.exe\\Z\", json.loads(xs)['SourceImage'], re.IGNORECASE):\n",
    "                temp_event += [xs]\n",
    "    except:\n",
    "        error_data += [xs]\n",
    "print(len(temp_event))"
   ]
  },
  {
   "cell_type": "code",
   "execution_count": 18,
   "metadata": {},
   "outputs": [
    {
     "data": {
      "text/plain": [
       "{'Keywords': -9223372036854775808,\n",
       " 'SeverityValue': 2,\n",
       " 'SourceImage': 'C:\\\\windows\\\\system32\\\\taskmgr.exe',\n",
       " 'EventID': 10,\n",
       " 'ProviderGuid': '{5770385F-C22A-43E0-BF4C-06F5698FFBD9}',\n",
       " 'ExecutionProcessID': 3172,\n",
       " 'Channel': 'Microsoft-Windows-Sysmon/Operational',\n",
       " 'host': 'wec.internal.cloudapp.net',\n",
       " 'AccountType': 'User',\n",
       " 'UserID': 'S-1-5-18',\n",
       " 'SourceProcessGUID': '{b34bc01c-b7f3-5f69-df02-000000000900}',\n",
       " 'ThreadID': 4048,\n",
       " 'TargetImage': 'C:\\\\windows\\\\system32\\\\lsass.exe',\n",
       " 'GrantedAccess': '0x1400',\n",
       " 'EventType': 'INFO',\n",
       " 'Opcode': 'Info',\n",
       " 'EventTime': '2020-09-22 04:38:12',\n",
       " 'EventReceivedTime': '2020-09-22 04:38:16',\n",
       " '@timestamp': '2020-09-22T08:38:16.590Z',\n",
       " 'SourceModuleType': 'im_msvistalog',\n",
       " 'port': 64545,\n",
       " 'AccountName': 'SYSTEM',\n",
       " 'RecordNumber': 3406235,\n",
       " 'SourceProcessId': '624',\n",
       " 'SourceThreadId': '5452',\n",
       " 'Task': 10,\n",
       " 'Domain': 'NT AUTHORITY',\n",
       " '@version': '1',\n",
       " 'OpcodeValue': 0,\n",
       " 'SourceModuleName': 'eventlog',\n",
       " 'TargetProcessGUID': '{b34bc01c-226a-5f69-0c00-000000000900}',\n",
       " 'Severity': 'INFO',\n",
       " 'SourceName': 'Microsoft-Windows-Sysmon',\n",
       " 'Version': 3,\n",
       " 'TargetProcessId': '744',\n",
       " 'Category': 'Process accessed (rule: ProcessAccess)',\n",
       " 'CallTrace': 'C:\\\\windows\\\\SYSTEM32\\\\ntdll.dll+9c534|C:\\\\windows\\\\System32\\\\KERNELBASE.dll+305fe|C:\\\\windows\\\\system32\\\\taskmgr.exe+2d95e|C:\\\\windows\\\\system32\\\\taskmgr.exe+4918|C:\\\\windows\\\\system32\\\\taskmgr.exe+777d5|C:\\\\windows\\\\system32\\\\taskmgr.exe+76aae|C:\\\\windows\\\\system32\\\\taskmgr.exe+38288|C:\\\\windows\\\\system32\\\\taskmgr.exe+3962d|C:\\\\windows\\\\System32\\\\KERNEL32.DLL+17bd4|C:\\\\windows\\\\SYSTEM32\\\\ntdll.dll+6ce51',\n",
       " 'UtcTime': '2020-09-22 08:38:12.637',\n",
       " 'Hostname': 'WORKSTATION5.theshire.local',\n",
       " 'RuleName': '-',\n",
       " 'tags': ['mordorDataset']}"
      ]
     },
     "execution_count": 18,
     "metadata": {},
     "output_type": "execute_result"
    }
   ],
   "source": [
    "json.loads(temp_event[0])"
   ]
  },
  {
   "cell_type": "markdown",
   "metadata": {},
   "source": [
    "## EVTX\n",
    "The exampe case used json as dataset, use these codes when using evtx file"
   ]
  },
  {
   "cell_type": "code",
   "execution_count": null,
   "metadata": {},
   "outputs": [],
   "source": [
    "evtx_file = 'evtx_address' #replace evtx_address with evtx file address"
   ]
  },
  {
   "cell_type": "markdown",
   "metadata": {},
   "source": [
    "#### Filtering events based on event ID"
   ]
  },
  {
   "cell_type": "code",
   "execution_count": null,
   "metadata": {},
   "outputs": [],
   "source": [
    "parser = evtx.PyEvtxParser(evtx_file)\n",
    "parse_json = list(parser.records_json())\n",
    "\n",
    "temp_events = []\n",
    "\n",
    "for pj in parse_json:\n",
    "    if '\"EventID\": {event_id}' in pj['data']:#replace event_id with. Try using regex if you're unsure about the result.\n",
    "        temp_events+=[pj]\n",
    "        print(pj['data'])"
   ]
  },
  {
   "cell_type": "markdown",
   "metadata": {},
   "source": [
    "#### Filtering other elements\n",
    "To filter other elements, make sure you are loading the 'data' element after parsing the evtx to json. Then filter each case accodringly.<br>\n",
    "Example for finding .dmp file creation:"
   ]
  },
  {
   "cell_type": "code",
   "execution_count": null,
   "metadata": {},
   "outputs": [],
   "source": [
    "temp_events = []\n",
    "error_datas = []\n",
    "\n",
    "for pj in parse_json:\n",
    "    try:\n",
    "        if re.search(\"dmp\", json.loads(pj['data'])['EventData']['TargetFilename'], re.IGNORECASE):\n",
    "            temp_events += [pj]\n",
    "    except:\n",
    "        error_datas += [pj]\n",
    "print(len(temp_events))"
   ]
  }
 ],
 "metadata": {
  "kernelspec": {
   "display_name": "Python 3",
   "language": "python",
   "name": "python3"
  },
  "language_info": {
   "codemirror_mode": {
    "name": "ipython",
    "version": 3
   },
   "file_extension": ".py",
   "mimetype": "text/x-python",
   "name": "python",
   "nbconvert_exporter": "python",
   "pygments_lexer": "ipython3",
   "version": "3.6.9"
  }
 },
 "nbformat": 4,
 "nbformat_minor": 2
}
