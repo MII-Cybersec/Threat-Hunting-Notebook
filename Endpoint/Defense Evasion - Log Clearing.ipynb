{
 "cells": [
  {
   "cell_type": "markdown",
   "id": "adverse-blast",
   "metadata": {},
   "source": [
    "# Defense Evasion - Log Clearing\n",
    "\n",
    "#### Author: Rifqi Ardia Ramadhan\n",
    "\n",
    "Windows Event Log, by default, is logging every single significant events that happened to the computer, whether it's a process spawning or just simply session checking. But with that, any adversary activity could be logged in the middle of an attack. For them, after an attack was executed, they want to clear traces that might lead to them being in jail. So it's usual to clear logs before finishing the attack.\n",
    "\n",
    "## Use Case\n",
    "### Objective\n",
    "Identify if there's any log that was deleted recently. Even though the log is deleted, Event Log will still log the log deletion, so we can see the log if there is any log deleted recently. Well that's a mouthful!\n",
    "\n",
    "### Log Requirements\n",
    "Microsoft Windows Eventlog\n",
    "\n",
    "### Characteristics\n",
    "| No | Characteristic | Note | Why|\n",
    "|----|----------------|------|---|\n",
    "|  1 | A 1102 EventID is logged| | 1102 is an event log ID for audit log deletion |\n",
    "|2   | A 104 EventID is logged ||104 is an event log for an event log deletion request by app or admin|\n",
    "\n",
    "### References\n",
    "https://attack.mitre.org/techniques/T1070/001\n",
    "\n",
    "### Sample\n",
    "Dataset acquired from [EVTX-ATTACK-SAMPLES](https://github.com/sbousseaden/EVTX-ATTACK-SAMPLES)"
   ]
  },
  {
   "cell_type": "code",
   "execution_count": 31,
   "id": "incorporated-platform",
   "metadata": {},
   "outputs": [],
   "source": [
    "import evtx\n",
    "import xml.etree.ElementTree as ET\n",
    "import json\n",
    "from pprint import pprint"
   ]
  },
  {
   "cell_type": "code",
   "execution_count": 44,
   "id": "distributed-pride",
   "metadata": {},
   "outputs": [],
   "source": [
    "evtx_file = \"logs/Defense Evasion/DE_1102_security_log_cleared.evtx\""
   ]
  },
  {
   "cell_type": "code",
   "execution_count": 45,
   "id": "banner-snowboard",
   "metadata": {},
   "outputs": [
    {
     "name": "stdout",
     "output_type": "stream",
     "text": [
      "<?xml version=\"1.0\" encoding=\"utf-8\"?>\n",
      "<Event xmlns=\"http://schemas.microsoft.com/win/2004/08/events/event\">\n",
      "  <System>\n",
      "    <Provider Name=\"Microsoft-Windows-Eventlog\" Guid=\"{fc65ddd8-d6ef-4962-83d5-6e5cfe9ce148}\">\n",
      "    </Provider>\n",
      "    <EventID>1102</EventID>\n",
      "    <Version>0</Version>\n",
      "    <Level>4</Level>\n",
      "    <Task>104</Task>\n",
      "    <Opcode>0</Opcode>\n",
      "    <Keywords>0x4020000000000000</Keywords>\n",
      "    <TimeCreated SystemTime=\"2019-03-19 23:35:07.524202 UTC\">\n",
      "    </TimeCreated>\n",
      "    <EventRecordID>452811</EventRecordID>\n",
      "    <Correlation>\n",
      "    </Correlation>\n",
      "    <Execution ProcessID=\"812\" ThreadID=\"3916\">\n",
      "    </Execution>\n",
      "    <Channel>Security</Channel>\n",
      "    <Computer>PC01.example.corp</Computer>\n",
      "    <Security>\n",
      "    </Security>\n",
      "  </System>\n",
      "  <UserData>\n",
      "    <LogFileCleared xmlns:auto-ns3=\"http://schemas.microsoft.com/win/2004/08/events\" xmlns=\"http://manifests.microsoft.com/win/2004/08/windows/eventlog\">\n",
      "      <SubjectUserSid>S-1-5-21-1587066498-1489273250-1035260531-1106</SubjectUserSid>\n",
      "      <SubjectUserName>user01</SubjectUserName>\n",
      "      <SubjectDomainName>EXAMPLE</SubjectDomainName>\n",
      "      <SubjectLogonId>0x17dad</SubjectLogonId>\n",
      "    </LogFileCleared>\n",
      "  </UserData>\n",
      "</Event>\n"
     ]
    }
   ],
   "source": [
    "parser = evtx.PyEvtxParser(evtx_file)\n",
    "parse_json = list(parser.records())\n",
    "\n",
    "# all of the above is just to parse the EVTX file as Dictionary\n",
    "for i in parse_json:\n",
    "    if \"<EventID>1102</EventID>\" in i['data']:                               #Check if there is EventID 1102\n",
    "        print(i['data'].replace(\"&quot;\", \"\\\"\"))"
   ]
  },
  {
   "cell_type": "code",
   "execution_count": 47,
   "id": "auburn-budget",
   "metadata": {},
   "outputs": [],
   "source": [
    "evtx_file_2 = \"logs/Defense Evasion/DE_104_system_log_cleared.evtx\" # change to another sample file"
   ]
  },
  {
   "cell_type": "code",
   "execution_count": 48,
   "id": "understood-cylinder",
   "metadata": {},
   "outputs": [
    {
     "name": "stdout",
     "output_type": "stream",
     "text": [
      "<?xml version=\"1.0\" encoding=\"utf-8\"?>\n",
      "<Event xmlns=\"http://schemas.microsoft.com/win/2004/08/events/event\">\n",
      "  <System>\n",
      "    <Provider Name=\"Microsoft-Windows-Eventlog\" Guid=\"{fc65ddd8-d6ef-4962-83d5-6e5cfe9ce148}\">\n",
      "    </Provider>\n",
      "    <EventID>104</EventID>\n",
      "    <Version>0</Version>\n",
      "    <Level>4</Level>\n",
      "    <Task>104</Task>\n",
      "    <Opcode>0</Opcode>\n",
      "    <Keywords>0x8000000000000000</Keywords>\n",
      "    <TimeCreated SystemTime=\"2019-03-19 23:34:25.894341 UTC\">\n",
      "    </TimeCreated>\n",
      "    <EventRecordID>27736</EventRecordID>\n",
      "    <Correlation>\n",
      "    </Correlation>\n",
      "    <Execution ProcessID=\"812\" ThreadID=\"3916\">\n",
      "    </Execution>\n",
      "    <Channel>System</Channel>\n",
      "    <Computer>PC01.example.corp</Computer>\n",
      "    <Security UserID=\"S-1-5-21-1587066498-1489273250-1035260531-1106\">\n",
      "    </Security>\n",
      "  </System>\n",
      "  <UserData>\n",
      "    <LogFileCleared xmlns:auto-ns3=\"http://schemas.microsoft.com/win/2004/08/events\" xmlns=\"http://manifests.microsoft.com/win/2004/08/windows/eventlog\">\n",
      "      <SubjectUserName>user01</SubjectUserName>\n",
      "      <SubjectDomainName>EXAMPLE</SubjectDomainName>\n",
      "      <Channel>System</Channel>\n",
      "      <BackupPath></BackupPath>\n",
      "    </LogFileCleared>\n",
      "  </UserData>\n",
      "</Event>\n"
     ]
    }
   ],
   "source": [
    "parser = evtx.PyEvtxParser(evtx_file_2)\n",
    "parse_json = list(parser.records())\n",
    "\n",
    "#parse_json\n",
    "for i in parse_json:\n",
    "    if \"<EventID>104</EventID>\" in i['data']:\n",
    "        print(i['data'].replace(\"&quot;\", \"\\\"\"))"
   ]
  },
  {
   "cell_type": "code",
   "execution_count": null,
   "id": "hungarian-calcium",
   "metadata": {},
   "outputs": [],
   "source": []
  }
 ],
 "metadata": {
  "kernelspec": {
   "display_name": "Python 3",
   "language": "python",
   "name": "python3"
  },
  "language_info": {
   "codemirror_mode": {
    "name": "ipython",
    "version": 3
   },
   "file_extension": ".py",
   "mimetype": "text/x-python",
   "name": "python",
   "nbconvert_exporter": "python",
   "pygments_lexer": "ipython3",
   "version": "3.6.9"
  }
 },
 "nbformat": 4,
 "nbformat_minor": 5
}
