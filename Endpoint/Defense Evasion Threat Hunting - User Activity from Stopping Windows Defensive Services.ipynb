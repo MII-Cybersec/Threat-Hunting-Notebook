{
 "cells": [
  {
   "cell_type": "markdown",
   "id": "experimental-commercial",
   "metadata": {},
   "source": [
    "# Defense Evasion Threat Hunting - User Activity from Stopping Windows Defensive Services\n",
    "### Author: Bintang N M\n",
    "Spyware and malware remain a serious problem and Microsoft developed security services, Windows Defender and Windows Firewall, to combat this threat. In the event Windows Defender or Windows Firewall is turned off, administrators should correct the issue immediately to prevent the possibility of infection or further infection and investigate to determine if caused by crash or user manipulation.\n",
    "\n",
    "## Use Case\n",
    "### Objective\n",
    "Identify event with 7036 code. Event code 7036 is a stopping services event. \n",
    "\n",
    "### Logs Requirements\n",
    "Windows System Event\n",
    "\n",
    "### References\n",
    "MITRE references: https://car.mitre.org/analytics/CAR-2016-04-003/ "
   ]
  },
  {
   "cell_type": "code",
   "execution_count": 1,
   "id": "known-register",
   "metadata": {},
   "outputs": [],
   "source": [
    "import evtx\n",
    "import xml.etree.ElementTree as ET\n",
    "import json\n",
    "import re"
   ]
  },
  {
   "cell_type": "code",
   "execution_count": 2,
   "id": "faced-douglas",
   "metadata": {},
   "outputs": [],
   "source": [
    "evtx_file = 'logs/Defense Evasion/DE-stopDefenseService.evtx'"
   ]
  },
  {
   "cell_type": "markdown",
   "id": "downtown-engineer",
   "metadata": {},
   "source": [
    "#### Filtering event id 7036 which indicate service's stop or start events"
   ]
  },
  {
   "cell_type": "code",
   "execution_count": 4,
   "id": "ignored-karaoke",
   "metadata": {},
   "outputs": [],
   "source": [
    "parser = evtx.PyEvtxParser(evtx_file)\n",
    "parse_json = list(parser.records_json())\n",
    "\n",
    "temp_events = []\n",
    "\n",
    "for pj in parse_json:\n",
    "    if \"7036\" in pj['data']:\n",
    "        temp_events+=[pj]\n",
    "#         print(pj['data'])"
   ]
  },
  {
   "cell_type": "markdown",
   "id": "utility-heating",
   "metadata": {},
   "source": [
    "#### Filtering windows firewall and windows defender stop services\n",
    "The services name can be identified on param1 element<br>\n",
    "If the service is being stopped, the param2 element value would be 'stopped'"
   ]
  },
  {
   "cell_type": "code",
   "execution_count": 13,
   "id": "enormous-seeking",
   "metadata": {},
   "outputs": [],
   "source": [
    "temp_events2 = []\n",
    "\n",
    "for te in temp_events:\n",
    "    if json.loads(te['data'])['Event']['EventData']['param1'] in [\"Windows Defender\", \"Windows Firewall\"] and json.loads(te['data'])['Event']['EventData']['param2'] == 'stopped':\n",
    "        temp_events2 += [te]"
   ]
  },
  {
   "cell_type": "code",
   "execution_count": 15,
   "id": "original-panel",
   "metadata": {},
   "outputs": [
    {
     "data": {
      "text/plain": [
       "{'Event': {'#attributes': {'xmlns': 'http://schemas.microsoft.com/win/2004/08/events/event'},\n",
       "  'EventData': {'Binary': '570069006E0044006500660065006E0064002F0031000000',\n",
       "   'param1': 'Windows Defender',\n",
       "   'param2': 'stopped'},\n",
       "  'System': {'Channel': 'System',\n",
       "   'Computer': 'Skify-PC',\n",
       "   'Correlation': None,\n",
       "   'EventID': {'#attributes': {'Qualifiers': 16384}, '#text': 7036},\n",
       "   'EventRecordID': 390,\n",
       "   'Execution': {'#attributes': {'ProcessID': 432, 'ThreadID': 2100}},\n",
       "   'Keywords': '0x8080000000000000',\n",
       "   'Level': 4,\n",
       "   'Opcode': 0,\n",
       "   'Provider': {'#attributes': {'EventSourceName': 'Service Control Manager',\n",
       "     'Guid': '{555908d1-a6d7-4695-8e1e-26931d2012f4}',\n",
       "     'Name': 'Service Control Manager'}},\n",
       "   'Security': None,\n",
       "   'Task': 0,\n",
       "   'TimeCreated': {'#attributes': {'SystemTime': '2020-04-30T17:15:09.746195Z'}},\n",
       "   'Version': 0}}}"
      ]
     },
     "execution_count": 15,
     "metadata": {},
     "output_type": "execute_result"
    }
   ],
   "source": [
    "json.loads(temp_events2[0]['data'])"
   ]
  }
 ],
 "metadata": {
  "kernelspec": {
   "display_name": "Python 3",
   "language": "python",
   "name": "python3"
  },
  "language_info": {
   "codemirror_mode": {
    "name": "ipython",
    "version": 3
   },
   "file_extension": ".py",
   "mimetype": "text/x-python",
   "name": "python",
   "nbconvert_exporter": "python",
   "pygments_lexer": "ipython3",
   "version": "3.6.9"
  }
 },
 "nbformat": 4,
 "nbformat_minor": 5
}
