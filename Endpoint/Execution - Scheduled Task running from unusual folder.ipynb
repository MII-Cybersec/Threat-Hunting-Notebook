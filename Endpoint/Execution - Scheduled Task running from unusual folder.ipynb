{
 "cells": [
  {
   "cell_type": "markdown",
   "id": "colored-tuning",
   "metadata": {},
   "source": [
    "# Execution - Scheduled Task running from unusual folder\n",
    "\n",
    "#### Author: Rifqi Ardia Ramadhan\n",
    "\n",
    "Task Scheduler is a useful Windows tool to schedule frequently used program, with certain conditions. You used it? Yeah me neither. This is particularly useful if you're working on same thing everyday and already has a \"habit\" of using the same thing. But, because it is scheduled, it's also a place for malware to schedule their \"update\" against the machine. Roger Grimes said on PCWorld, and I quote, \"I've seen malware hunters struggle to find out how the malicious code 'keeps re-infecting their clean system.' Answer: Check the Task Scheduler.\"\n",
    "\n",
    "## Use Case\n",
    "In this use case, we're hunting a suspicious program from scheduled task. The program, for it to be hidden, placed itself in unusual directory. \n",
    "\n",
    "Sample Use Case Unusual Folder location used by threat actor :\n",
    "\n",
    "1. Temporary Folder\n",
    "2. User Directory Folder\n",
    "\n",
    "Any common person would not place their scheduled program on Temp, because it's their most common program to use, why would you place it in an obscure place?\n",
    "\n",
    "### Objective\n",
    "Identify a suspicious program injected to Task Scheduler. This can be done by filtering Windows Security Auditing log for EventID 4698, which is \"created a new scheduled task\", and see what files are used in the scheduled task. If it was placed in an abnormal folder, with optional characteristic of obfuscated executable name, it should be audited.\n",
    "\n",
    "### Log requirements\n",
    "Microsoft Windows Security Auditing Event Log\n",
    "\n",
    "### Characteristics and Behaviour\n",
    "| No | Characteristic | Note | Why|\n",
    "|----|----------------|------|---|\n",
    "|  1 | A scheduled task was made| Initiation | Even though it's rarely used by common person, it might be a legitimate task |\n",
    "|2   | The scheduled task's program was placed in unusual folder ||Uncommon place for a usual task|\n",
    "|3   | The scheduled task's name was obfuscated|Optional||\n",
    "\n",
    "### References\n",
    "https://attack.mitre.org/techniques/T1053/\n",
    "\n",
    "[PCWorld Article](https://www.pcworld.com/article/244769/malware_using_windows_task_scheduler.html)\n",
    "\n",
    "## Sample\n",
    "Dataset acquired from [EVTX-ATTACK-SAMPLES](https://github.com/sbousseaden/EVTX-ATTACK-SAMPLES), with \"The Unusual Folder\" is `%windir%\\Temp\\`."
   ]
  },
  {
   "cell_type": "code",
   "execution_count": 1,
   "id": "junior-looking",
   "metadata": {},
   "outputs": [
    {
     "name": "stdout",
     "output_type": "stream",
     "text": [
      "<actions context=\"LocalSystem\">\n",
      "<exec>\n",
      "<command>cmd.exe</command>\n",
      "<arguments>/C tasklist &amp;gt; %windir%\\Temp\\CYAlyNSS.tmp 2&amp;gt;&amp;amp;1</arguments>\n",
      "</exec>\n",
      "</actions>\n"
     ]
    }
   ],
   "source": [
    "import Evtx.Evtx as evtx\n",
    "import Evtx.Views as e_views\n",
    "import xml.dom.minidom as minidom\n",
    "from xml.etree.ElementTree import XML\n",
    "from bs4 import BeautifulSoup as bs\n",
    "        \n",
    "def get_events(input_file, parse_xml=False):\n",
    "    \"\"\"Opens a Windows Event Log and returns XML information from\n",
    "    the event record.\n",
    "\n",
    "    Arguments:\n",
    "        input_file (str): Path to evtx file to open\n",
    "        parse_xml (bool): If True, return an lxml object, otherwise a string\n",
    "\n",
    "    Yields:\n",
    "        (generator): XML information in object or string format\n",
    "\n",
    "    Examples:\n",
    "        >>> for event_xml in enumerate(get_events(\"System.evtx\")):\n",
    "        >>>     print(event_xml)\n",
    "\n",
    "    \"\"\"\n",
    "    with evtx.Evtx(input_file) as event_log:\n",
    "        for record in event_log.records():\n",
    "            if parse_xml:\n",
    "                yield record.lxml()\n",
    "            else:\n",
    "                yield record.xml()\n",
    "\n",
    "\n",
    "# all of the above is just to parse the EVTX file as XML\n",
    "\n",
    "filename = \"logs/Execution/temp_scheduled_task_4698_4699.evtx\"\n",
    "xmloutput = \"\"\n",
    "for event_xml in enumerate(get_events(filename)):\n",
    "    if \"4698</EventID>\" in event_xml[1]:                           #Check if scheduled task (EventID 4698) was made\n",
    "        parsedxml = minidom.parseString(event_xml[1])\n",
    "        prettyxml = parsedxml.toprettyxml()\n",
    "        #print(event_xml[0], prettyxml)                            #Print this if you want to see all the scheduled task made\n",
    "        bs_content = bs(prettyxml, 'lxml')\n",
    "        result = bs_content.find(\"data\", {\"name\":\"TaskContent\"})   #What task were made\n",
    "        result = str(result).replace(\"&lt;\", \"<\")\n",
    "        result = result.replace(\"&gt;\", \">\")\n",
    "        bs_content_child = bs(result, 'lxml')\n",
    "        print(bs_content_child.find(\"actions\"))                    #Check what executable are used for each event"
   ]
  }
 ],
 "metadata": {
  "kernelspec": {
   "display_name": "Python 3",
   "language": "python",
   "name": "python3"
  },
  "language_info": {
   "codemirror_mode": {
    "name": "ipython",
    "version": 3
   },
   "file_extension": ".py",
   "mimetype": "text/x-python",
   "name": "python",
   "nbconvert_exporter": "python",
   "pygments_lexer": "ipython3",
   "version": "3.6.9"
  }
 },
 "nbformat": 4,
 "nbformat_minor": 5
}
