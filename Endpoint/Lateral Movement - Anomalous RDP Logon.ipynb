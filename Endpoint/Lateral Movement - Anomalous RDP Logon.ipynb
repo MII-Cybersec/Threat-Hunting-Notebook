{
 "cells": [
  {
   "cell_type": "markdown",
   "metadata": {},
   "source": [
    "# Lateral Movement Threat Hunting - Anomalous RDP Logon\n",
    "\n",
    "A remote desktop logon, through RDP, may be typical of a system administrator or IT support, but only from select workstations. Monitoring remote desktop logons and comparing to known/approved originating systems can detect lateral movement of an adversary. \n",
    "\n",
    "## Use Case\n",
    "### Objective\n",
    "Identify anomalous RDP logon event. An event may be considered anomalous if it is for example occured outside of normal  time(e.g. office hour) or if it is being done from suspicious Ip address.\n",
    "\n",
    "### Logs Requirements\n",
    "Microsoft Windows Sysmon\n",
    "\n",
    "### References\n",
    "MITRE references: https://car.mitre.org/analytics/CAR-2016-04-005/ <br>\n",
    "evtx: https://github.com/sbousseaden/EVTX-ATTACK-SAMPLES <br>\n",
    "geoip2 database: https://dev.maxmind.com/geoip/geoip2/downloadable/"
   ]
  },
  {
   "cell_type": "code",
   "execution_count": 1,
   "metadata": {},
   "outputs": [],
   "source": [
    "import evtx\n",
    "import xml.etree.ElementTree as ET\n",
    "import json"
   ]
  },
  {
   "cell_type": "code",
   "execution_count": 2,
   "metadata": {},
   "outputs": [],
   "source": [
    "evtx_file = \"logs/Lateral Movement/DE_RDP_Tunneling_4624.evtx\""
   ]
  },
  {
   "cell_type": "code",
   "execution_count": 3,
   "metadata": {},
   "outputs": [
    {
     "name": "stdout",
     "output_type": "stream",
     "text": [
      "{\n",
      "  \"Event\": {\n",
      "    \"#attributes\": {\n",
      "      \"xmlns\": \"http://schemas.microsoft.com/win/2004/08/events/event\"\n",
      "    },\n",
      "    \"EventData\": {\n",
      "      \"AuthenticationPackageName\": \"Negotiate\",\n",
      "      \"IpAddress\": \"127.0.0.1\",\n",
      "      \"IpPort\": \"49164\",\n",
      "      \"KeyLength\": 0,\n",
      "      \"LmPackageName\": \"-\",\n",
      "      \"LogonGuid\": \"00000000-0000-0000-0000-000000000000\",\n",
      "      \"LogonProcessName\": \"User32 \",\n",
      "      \"LogonType\": 10,\n",
      "      \"ProcessId\": \"0x658\",\n",
      "      \"ProcessName\": \"C:\\\\Windows\\\\System32\\\\winlogon.exe\",\n",
      "      \"SubjectDomainName\": \"EXAMPLE\",\n",
      "      \"SubjectLogonId\": \"0x3e7\",\n",
      "      \"SubjectUserName\": \"PC02$\",\n",
      "      \"SubjectUserSid\": \"S-1-5-18\",\n",
      "      \"TargetDomainName\": \"PC02\",\n",
      "      \"TargetLogonId\": \"0x45120\",\n",
      "      \"TargetUserName\": \"IEUser\",\n",
      "      \"TargetUserSid\": \"S-1-5-21-3583694148-1414552638-2922671848-1000\",\n",
      "      \"TransmittedServices\": \"-\",\n",
      "      \"WorkstationName\": \"PC02\"\n",
      "    },\n",
      "    \"System\": {\n",
      "      \"Channel\": \"Security\",\n",
      "      \"Computer\": \"PC02.example.corp\",\n",
      "      \"Correlation\": null,\n",
      "      \"EventID\": 4624,\n",
      "      \"EventRecordID\": 5315,\n",
      "      \"Execution\": {\n",
      "        \"#attributes\": {\n",
      "          \"ProcessID\": 480,\n",
      "          \"ThreadID\": 3952\n",
      "        }\n",
      "      },\n",
      "      \"Keywords\": \"0x8020000000000000\",\n",
      "      \"Level\": 0,\n",
      "      \"Opcode\": 0,\n",
      "      \"Provider\": {\n",
      "        \"#attributes\": {\n",
      "          \"Guid\": \"54849625-5478-4994-A5BA-3E3B0328C30D\",\n",
      "          \"Name\": \"Microsoft-Windows-Security-Auditing\"\n",
      "        }\n",
      "      },\n",
      "      \"Security\": null,\n",
      "      \"Task\": 12544,\n",
      "      \"TimeCreated\": {\n",
      "        \"#attributes\": {\n",
      "          \"SystemTime\": \"2019-02-13T15:26:53.356780Z\"\n",
      "        }\n",
      "      },\n",
      "      \"Version\": 0\n",
      "    }\n",
      "  }\n",
      "}\n"
     ]
    }
   ],
   "source": [
    "parser = evtx.PyEvtxParser(evtx_file)\n",
    "parse_json = list(parser.records_json())\n",
    "\n",
    "Success_RDP = []\n",
    "\n",
    "for pj in parse_json:\n",
    "    if \"4624\" in pj['data'] and \"\\\"LogonType\\\": 10\" in pj['data']:\n",
    "        Success_RDP+=[pj]\n",
    "        print(pj['data'])"
   ]
  },
  {
   "cell_type": "markdown",
   "metadata": {},
   "source": [
    "<h2>RDP outside office hour</h2>"
   ]
  },
  {
   "cell_type": "code",
   "execution_count": 4,
   "metadata": {},
   "outputs": [],
   "source": [
    "from datetime import datetime"
   ]
  },
  {
   "cell_type": "markdown",
   "metadata": {},
   "source": [
    "Defining office hour filter"
   ]
  },
  {
   "cell_type": "code",
   "execution_count": 5,
   "metadata": {},
   "outputs": [],
   "source": [
    "sh = 8  #office start hour\n",
    "sm = 0  #office start minute\n",
    "eh = 15 #office end hour\n",
    "em = 0  #office end minute"
   ]
  },
  {
   "cell_type": "code",
   "execution_count": 9,
   "metadata": {},
   "outputs": [
    {
     "name": "stdout",
     "output_type": "stream",
     "text": [
      "Detected RDP logon at 2019-02-13 15:27:53.653483 UTC\n"
     ]
    }
   ],
   "source": [
    "for SRDP in Success_RDP:\n",
    "    SRDP_time = datetime.strptime(SRDP['timestamp'], \"%Y-%m-%d %H:%M:%S.%f %Z\")\n",
    "    if ((SRDP_time < SRDP_time.replace(hour=sh, minute=sm)) or (SRDP_time > SRDP_time.replace(hour=eh, minute=em))):\n",
    "        print(\"Detected RDP logon at\", SRDP['timestamp'])\n",
    "#         print(SRDP['data'])"
   ]
  },
  {
   "cell_type": "markdown",
   "metadata": {},
   "source": [
    "<h2>RDP Login Source Outside of Indonesia</h2>\n",
    "<br>\n",
    "As the infrastructure of the company reside in Indonesia, the access should be made from Indonesia as well. The geoip2 database from MaxMind could be utilizied to find out the accessing IP's geo location."
   ]
  },
  {
   "cell_type": "code",
   "execution_count": 7,
   "metadata": {},
   "outputs": [],
   "source": [
    "#import geoip library and read the geoip2 database\n",
    "import geoip2.database\n",
    "reader = geoip2.database.Reader('logs/Lateral Movement/GeoLocationDB/GeoLite2-Country.mmdb')"
   ]
  },
  {
   "cell_type": "code",
   "execution_count": 8,
   "metadata": {},
   "outputs": [
    {
     "name": "stdout",
     "output_type": "stream",
     "text": [
      "The address 127.0.0.1 is not in the database.\n"
     ]
    }
   ],
   "source": [
    "for SRDP in Success_RDP:\n",
    "    try: #try clause in case no Ip address in the record\n",
    "        SRDP_Ip = json.loads(SRDP['data'])['Event']['EventData']['IpAddress']\n",
    "        try: #try clause in case there's no matchin ip address in the database\n",
    "            response = reader.country(SRDP_Ip)\n",
    "\n",
    "            if response.country.iso_code != 'ID':\n",
    "                print(\"IP =\", SRDP_Ip, response.country.name)\n",
    "        except geoip2.errors.AddressNotFoundError:\n",
    "            print(\"The address 127.0.0.1 is not in the database.\")\n",
    "    except:\n",
    "        print(\"No IP address detected\")"
   ]
  },
  {
   "cell_type": "markdown",
   "metadata": {},
   "source": [
    "<b>notes</b>\n",
    "<br>\n",
    "The geoip2 library could also utilize MaxMind geoip2 web services. See http://dev.maxmind.com/geoip/geoip2/web-services for the GeoIP2 Precision web service docs."
   ]
  }
 ],
 "metadata": {
  "kernelspec": {
   "display_name": "Python 3",
   "language": "python",
   "name": "python3"
  },
  "language_info": {
   "codemirror_mode": {
    "name": "ipython",
    "version": 3
   },
   "file_extension": ".py",
   "mimetype": "text/x-python",
   "name": "python",
   "nbconvert_exporter": "python",
   "pygments_lexer": "ipython3",
   "version": "3.6.9"
  }
 },
 "nbformat": 4,
 "nbformat_minor": 2
}
