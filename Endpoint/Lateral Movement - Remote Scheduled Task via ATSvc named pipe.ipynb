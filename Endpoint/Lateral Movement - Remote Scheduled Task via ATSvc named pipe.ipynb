{
 "cells": [
  {
   "cell_type": "markdown",
   "id": "catholic-safety",
   "metadata": {},
   "source": [
    "# Lateral Movement - Remote Scheduled Task via ATSvc named pipe\n",
    "\n",
    "#### Author: Rifqi Ardia Ramadhan\n",
    "\n",
    "ATSvc is a Windows DCE-RPC based protocol used by CIFS hosts (SMB) that is used to access Task Scheduler service across the network. In short, it's a remote Windows task scheduler. On the previous article, _Execution - Scheduled Task from unusual folder_, we can identify scheduled task made, but not how it's made. [CrackMapExec](https://github.com/byt3bl33d3r/CrackMapExec) is one of the powerful tool to do remote execution with this ATSvc, with its  module `atexec`. This article will explain one of the example of the exploitation of ATSvc to get into the Execution of a malicious program.\n",
    "\n",
    "## Use Case\n",
    "### Objective\n",
    "Identify if there's any remote task scheduling that is piped over SMB.\n",
    "\n",
    "### Log Requirements\n",
    "Microsoft Windows Security Auditing\n",
    "\n",
    "### Characteristics\n",
    "| No | Characteristic | Note | Why|\n",
    "|----|----------------|------|---|\n",
    "|  1 | A 5145 EventID is logged| | This event generates every time network share object (file or folder) was accessed. |\n",
    "|2   | RelativeTargetName (RTN) is `atsvc` || This RTN means that someone requested ATSvc from the network |\n",
    "|3   | Share Name is \\\\\\\\\\*\\\\IPC | | |\n",
    "\n",
    "### References\n",
    "https://car.mitre.org/analytics/CAR-2015-04-001/\n",
    "\n",
    "https://blog.menasec.net/2019/03/threat-hunting-25-scheduled-tasks-for.html\n",
    "\n",
    "https://github.com/byt3bl33d3r/CrackMapExec\n",
    "\n",
    "### Sample\n",
    "Dataset acquired from [EVTX-ATTACK-SAMPLES](https://github.com/sbousseaden/EVTX-ATTACK-SAMPLES)"
   ]
  },
  {
   "cell_type": "code",
   "execution_count": 1,
   "id": "alpine-gross",
   "metadata": {},
   "outputs": [],
   "source": [
    "import evtx\n",
    "import xml.etree.ElementTree as ET\n",
    "import json\n",
    "\n",
    "evtx_file = \"logs/Lateral Movement/LM_ScheduledTask_ATSVC_target_host.evtx\"  # change the source file to the one you have\n",
    "\n",
    "parser = evtx.PyEvtxParser(evtx_file)\n",
    "parse_json = list(parser.records())\n",
    "\n",
    "# all of the above is just to parse the EVTX file as Dictionary"
   ]
  },
  {
   "cell_type": "markdown",
   "id": "bound-radio",
   "metadata": {},
   "source": [
    "Check if there is EventID 5145 with RTN `atsvc` and ShareName `\\\\*\\IPC$`"
   ]
  },
  {
   "cell_type": "code",
   "execution_count": 2,
   "id": "biblical-obligation",
   "metadata": {},
   "outputs": [
    {
     "name": "stdout",
     "output_type": "stream",
     "text": [
      "<?xml version=\"1.0\" encoding=\"utf-8\"?>\n",
      "<Event xmlns=\"http://schemas.microsoft.com/win/2004/08/events/event\">\n",
      "  <System>\n",
      "    <Provider Name=\"Microsoft-Windows-Security-Auditing\" Guid=\"54849625-5478-4994-A5BA-3E3B0328C30D\">\n",
      "    </Provider>\n",
      "    <EventID>5145</EventID>\n",
      "    <Version>0</Version>\n",
      "    <Level>0</Level>\n",
      "    <Task>12811</Task>\n",
      "    <Opcode>0</Opcode>\n",
      "    <Keywords>0x8020000000000000</Keywords>\n",
      "    <TimeCreated SystemTime=\"2019-03-19 00:02:04.241919 UTC\">\n",
      "    </TimeCreated>\n",
      "    <EventRecordID>566832</EventRecordID>\n",
      "    <Correlation>\n",
      "    </Correlation>\n",
      "    <Execution ProcessID=\"452\" ThreadID=\"460\">\n",
      "    </Execution>\n",
      "    <Channel>Security</Channel>\n",
      "    <Computer>WIN-77LTAPHIQ1R.example.corp</Computer>\n",
      "    <Security>\n",
      "    </Security>\n",
      "  </System>\n",
      "  <EventData>\n",
      "    <Data Name=\"SubjectUserSid\">S-1-5-21-1587066498-1489273250-1035260531-500</Data>\n",
      "    <Data Name=\"SubjectUserName\">Administrator</Data>\n",
      "    <Data Name=\"SubjectDomainName\">EXAMPLE</Data>\n",
      "    <Data Name=\"SubjectLogonId\">0x17e2c0</Data>\n",
      "    <Data Name=\"ObjectType\">File</Data>\n",
      "    <Data Name=\"IpAddress\">10.0.2.17</Data>\n",
      "    <Data Name=\"IpPort\">49237</Data>\n",
      "    <Data Name=\"ShareName\">\\\\*\\IPC$</Data>\n",
      "    <Data Name=\"ShareLocalPath\"></Data>\n",
      "    <Data Name=\"RelativeTargetName\">atsvc</Data>\n",
      "    <Data Name=\"AccessMask\">0x3</Data>\n",
      "    <Data Name=\"AccessList\">%%4416\r\n",
      "\t\t\t\t%%4417\r\n",
      "\t\t\t\t</Data>\n",
      "    <Data Name=\"AccessReason\">-</Data>\n",
      "  </EventData>\n",
      "</Event>\n"
     ]
    }
   ],
   "source": [
    "for i in parse_json:\n",
    "    if \"<EventID>5145</EventID>\" in i['data'] and \"\\\"RelativeTargetName\\\">atsvc</Data>\" in i['data'] and \"\\\"ShareName\\\">\\\\\\\\*\\\\IPC$</Data>\" in i['data']:\n",
    "        print(i['data'].replace(\"&quot;\", \"\\\"\"))"
   ]
  },
  {
   "cell_type": "code",
   "execution_count": null,
   "id": "conscious-yukon",
   "metadata": {},
   "outputs": [],
   "source": []
  }
 ],
 "metadata": {
  "kernelspec": {
   "display_name": "Python 3",
   "language": "python",
   "name": "python3"
  },
  "language_info": {
   "codemirror_mode": {
    "name": "ipython",
    "version": 3
   },
   "file_extension": ".py",
   "mimetype": "text/x-python",
   "name": "python",
   "nbconvert_exporter": "python",
   "pygments_lexer": "ipython3",
   "version": "3.6.9"
  }
 },
 "nbformat": 4,
 "nbformat_minor": 5
}
