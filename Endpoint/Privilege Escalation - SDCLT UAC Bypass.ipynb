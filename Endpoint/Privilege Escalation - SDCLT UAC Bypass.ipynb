{
 "cells": [
  {
   "cell_type": "markdown",
   "metadata": {},
   "source": [
    "# Privilege Escalation - SDCLT UAC Bypass\n",
    "### Author: Bintang N M\n",
    "SDCLT is a Microsoft binary that is used in Windows systems (Windows 7 and above) to allow the user to perform backup and restore operations. However it is one of the Microsoft binaries that has been configured to have the autoElevate setting to “true”.\n",
    "\n",
    "\n",
    "## Use Case\n",
    "### Objective\n",
    "Identify UAC bypass by detecting specific registry key access in windows event file.\n",
    "\n",
    "\n",
    "### Logs Requirements\n",
    "Microsoft Windows Sysmon\n",
    "\n",
    "### References\n",
    "MITRE references: https://attack.mitre.org/techniques/T1548/002/ <br>\n",
    "sysmon file: https://github.com/Lichtsinnig/EVTX-ATTACK-SAMPLES/blob/master/Privilege%20Escalation/sysmon_1_13_UACBypass_AppPath_Control.evtx and https://github.com/Lichtsinnig/EVTX-ATTACK-SAMPLES/blob/master/Privilege%20Escalation/Sysmon_13_1_UACBypass_SDCLTBypass.evtx <br>\n",
    "Additional reference: https://pentestlab.blog/2017/06/09/uac-bypass-sdclt/"
   ]
  },
  {
   "cell_type": "code",
   "execution_count": 1,
   "metadata": {},
   "outputs": [],
   "source": [
    "import evtx\n",
    "import xml.etree.ElementTree as ET\n",
    "import json\n",
    "import re"
   ]
  },
  {
   "cell_type": "markdown",
   "metadata": {},
   "source": [
    "### SDCLT UAC bypass using App Paths\n",
    "The backup and restore operation is part of the control panel. This means that when the sdclt.exe process starts the control panel is starting as well. This binary it is designed to run as a high integrity process and it looks for \"HKCU\\Software\\Microsoft\\Windows\\CurrentVersion\\App Paths\\control.exe\" in the registry which should not be exist by default. However, the attacker can create this registry location and execute the sdclt.exe in order to execute a payload as a high integrity process bypassing the User Account Control.<br><br>\n",
    "To detect this activity, filter the windows event to show RegistryEvent (event ID: 13) which contain 'control.exe'."
   ]
  },
  {
   "cell_type": "code",
   "execution_count": 3,
   "metadata": {},
   "outputs": [
    {
     "name": "stdout",
     "output_type": "stream",
     "text": [
      "{\n",
      "  \"Event\": {\n",
      "    \"#attributes\": {\n",
      "      \"xmlns\": \"http://schemas.microsoft.com/win/2004/08/events/event\"\n",
      "    },\n",
      "    \"EventData\": {\n",
      "      \"Details\": \"C:\\\\windows\\\\system32\\\\cmd.exe\",\n",
      "      \"EventType\": \"SetValue\",\n",
      "      \"Image\": \"C:\\\\Windows\\\\System32\\\\WindowsPowerShell\\\\v1.0\\\\powershell.exe\",\n",
      "      \"ProcessGuid\": \"365ABB72-9570-5CD3-0000-00103FC90A00\",\n",
      "      \"ProcessId\": 1900,\n",
      "      \"RuleName\": \"\",\n",
      "      \"TargetObject\": \"HKU\\\\S-1-5-21-3583694148-1414552638-2922671848-1000\\\\Software\\\\Microsoft\\\\Windows\\\\CurrentVersion\\\\App Paths\\\\control.exe\\\\(Default)\",\n",
      "      \"UtcTime\": \"2019-05-09 03:25:24.552\"\n",
      "    },\n",
      "    \"System\": {\n",
      "      \"Channel\": \"Microsoft-Windows-Sysmon/Operational\",\n",
      "      \"Computer\": \"IEWIN7\",\n",
      "      \"Correlation\": null,\n",
      "      \"EventID\": 13,\n",
      "      \"EventRecordID\": 11264,\n",
      "      \"Execution\": {\n",
      "        \"#attributes\": {\n",
      "          \"ProcessID\": 1988,\n",
      "          \"ThreadID\": 228\n",
      "        }\n",
      "      },\n",
      "      \"Keywords\": \"0x8000000000000000\",\n",
      "      \"Level\": 4,\n",
      "      \"Opcode\": 0,\n",
      "      \"Provider\": {\n",
      "        \"#attributes\": {\n",
      "          \"Guid\": \"5770385F-C22A-43E0-BF4C-06F5698FFBD9\",\n",
      "          \"Name\": \"Microsoft-Windows-Sysmon\"\n",
      "        }\n",
      "      },\n",
      "      \"Security\": {\n",
      "        \"#attributes\": {\n",
      "          \"UserID\": \"S-1-5-18\"\n",
      "        }\n",
      "      },\n",
      "      \"Task\": 13,\n",
      "      \"TimeCreated\": {\n",
      "        \"#attributes\": {\n",
      "          \"SystemTime\": \"2019-05-09T03:25:24.630445Z\"\n",
      "        }\n",
      "      },\n",
      "      \"Version\": 2\n",
      "    }\n",
      "  }\n",
      "}\n"
     ]
    }
   ],
   "source": [
    "evtx_file = \"sysmon_1_13_UACBypass_AppPath_Control.evtx\"\n",
    "\n",
    "parser = evtx.PyEvtxParser(evtx_file)\n",
    "parse_json = list(parser.records_json())\n",
    "\n",
    "saved_event = []\n",
    "# print(len(parse_json))\n",
    "\n",
    "for pj in parse_json:\n",
    "    if '\"EventID\": 13' in pj['data'] and 'control.exe' in pj['data']:\n",
    "        saved_event+=[pj]\n",
    "        print(pj['data'])"
   ]
  },
  {
   "cell_type": "markdown",
   "metadata": {},
   "source": [
    "### SDCLT UAC bypass Fileless\n",
    "When the sdclt will executed again with the /kickoffelev parameter it will look for \"HKCU\\Software\\Classes\\exefile\\shell\\runas\\command\\IsolatedCommand\" in the registry which should not be exist by default. However, the attacker can create this registry location and execute the sdclt.exe in order to execute a payload as a high integrity process bypassing the User Account Control.<br><br>\n",
    "To detect this activity, filter the windows event to show RegistryEvent (event ID: 13) which contain 'command\\IsolatedCommand'."
   ]
  },
  {
   "cell_type": "code",
   "execution_count": 5,
   "metadata": {},
   "outputs": [
    {
     "name": "stdout",
     "output_type": "stream",
     "text": [
      "{\n",
      "  \"Event\": {\n",
      "    \"#attributes\": {\n",
      "      \"xmlns\": \"http://schemas.microsoft.com/win/2004/08/events/event\"\n",
      "    },\n",
      "    \"EventData\": {\n",
      "      \"Details\": \"C:\\\\Windows\\\\System32\\\\cmd.exe /c notepad.exe\",\n",
      "      \"EventType\": \"SetValue\",\n",
      "      \"Image\": \"C:\\\\Windows\\\\System32\\\\WindowsPowerShell\\\\v1.0\\\\powershell.exe\",\n",
      "      \"ProcessGuid\": \"365ABB72-88DC-5CD3-0000-00100DA51A00\",\n",
      "      \"ProcessId\": 2704,\n",
      "      \"RuleName\": \"\",\n",
      "      \"TargetObject\": \"HKU\\\\S-1-5-21-3583694148-1414552638-2922671848-1000_CLASSES\\\\exefile\\\\shell\\\\runas\\\\command\\\\IsolatedCommand\",\n",
      "      \"UtcTime\": \"2019-05-09 02:07:51.100\"\n",
      "    },\n",
      "    \"System\": {\n",
      "      \"Channel\": \"Microsoft-Windows-Sysmon/Operational\",\n",
      "      \"Computer\": \"IEWIN7\",\n",
      "      \"Correlation\": null,\n",
      "      \"EventID\": 13,\n",
      "      \"EventRecordID\": 11122,\n",
      "      \"Execution\": {\n",
      "        \"#attributes\": {\n",
      "          \"ProcessID\": 1980,\n",
      "          \"ThreadID\": 1904\n",
      "        }\n",
      "      },\n",
      "      \"Keywords\": \"0x8000000000000000\",\n",
      "      \"Level\": 4,\n",
      "      \"Opcode\": 0,\n",
      "      \"Provider\": {\n",
      "        \"#attributes\": {\n",
      "          \"Guid\": \"5770385F-C22A-43E0-BF4C-06F5698FFBD9\",\n",
      "          \"Name\": \"Microsoft-Windows-Sysmon\"\n",
      "        }\n",
      "      },\n",
      "      \"Security\": {\n",
      "        \"#attributes\": {\n",
      "          \"UserID\": \"S-1-5-18\"\n",
      "        }\n",
      "      },\n",
      "      \"Task\": 13,\n",
      "      \"TimeCreated\": {\n",
      "        \"#attributes\": {\n",
      "          \"SystemTime\": \"2019-05-09T02:07:51.116072Z\"\n",
      "        }\n",
      "      },\n",
      "      \"Version\": 2\n",
      "    }\n",
      "  }\n",
      "}\n"
     ]
    }
   ],
   "source": [
    "evtx_file = \"Sysmon_13_1_UACBypass_SDCLTBypass.evtx\"\n",
    "# evtx_sec = \"DE_1102_security_log_cleared.evtx\"\n",
    "\n",
    "parser = evtx.PyEvtxParser(evtx_file)\n",
    "parse_json = list(parser.records_json())\n",
    "\n",
    "saved_event = []\n",
    "# print(len(parse_json))\n",
    "\n",
    "for pj in parse_json:\n",
    "    if '\"EventID\": 13' in pj['data'] and '\\\\\\\\command\\\\\\\\IsolatedCommand' in pj['data']:\n",
    "        saved_event+=[pj]\n",
    "        print(pj['data'])"
   ]
  }
 ],
 "metadata": {
  "kernelspec": {
   "display_name": "Python 3",
   "language": "python",
   "name": "python3"
  },
  "language_info": {
   "codemirror_mode": {
    "name": "ipython",
    "version": 3
   },
   "file_extension": ".py",
   "mimetype": "text/x-python",
   "name": "python",
   "nbconvert_exporter": "python",
   "pygments_lexer": "ipython3",
   "version": "3.6.9"
  }
 },
 "nbformat": 4,
 "nbformat_minor": 2
}
