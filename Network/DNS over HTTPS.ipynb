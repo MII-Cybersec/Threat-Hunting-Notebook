{
 "cells": [
  {
   "cell_type": "markdown",
   "id": "comprehensive-wages",
   "metadata": {},
   "source": [
    "# DNS over HTTPS\n",
    "\n",
    "#### Author: Rifqi Ardia Ramadhan\n",
    "\n",
    "DNS is becoming more and more secure. But with this security comes new problem. Recently, DNS-over-HTTPS (DoH) gained popularity due to its guaranteed privacy of DNS. But this is a nightmare for Network Administrator, because they can't monitor DNS queries, block certain website that has malicious entity, or measuring compliance. This use case will try to detect DNS tunneling to improve enterprise network monitoring capabilities.\n",
    "\n",
    "## Usecase\n",
    "### Objective\n",
    "Identify if there is any device that is using DoH.\n",
    "\n",
    "### Log Requirements\n",
    "Network traffic capture.\n",
    "\n",
    "### Characteristics\n",
    "| No | Characteristic | Note | Why|\n",
    "|----|----------------|------|---|\n",
    "|  1 | There are TLS traffics to public DNS resolver such as Cloudflare, Quad9, Google, or OpenDNS | | Usually these IPs don't have an HTML interface and most likely solely used for resolver|\n",
    "\n",
    "| No | Resolver | IPv4 | IPv6|\n",
    "|----|----------------|------|---|\n",
    "|  1 | Quad9 |9.9.9.9|2620:fe::fe|\n",
    "|    | |149.112.112.112 |2620:fe::10|\n",
    "|    | | 9.9.9.10|2620:fe::11|\n",
    "|    | |149.112.112.10 ||\n",
    "|    | |9.9.9.11 ||\n",
    "|    | |149.112.112.11 ||\n",
    "|  2 | Google |8.8.8.8|2001:4860:4860::8888|\n",
    "|    | |8.8.4.4 |2001:4860:4860::8844|\n",
    "|  3 | Cloudflare |1.1.1.1|2606:4700:4700::1111|\n",
    "|    | |1.0.0.1 |2606:4700:4700::1001|\n",
    "|    | | 104.16.249.249|2606:4700::6810:f9f9|\n",
    "|    | |104.16.248.249 |2606:4700::6810:f8f9|\n",
    "|  4 | OpenDNS |208.67.222.222|\t2620:119:35::35|\n",
    "|    | |208.67.220.220|2620:119:53::53|\n",
    "|    | | 208.67.222.123|::ffff:d043:de7b|\n",
    "|    | |208.67.220.123|::ffff:d043:dc7b|\n",
    "\n",
    "### References\n",
    "https://developers.google.com/speed/public-dns/docs/using\n",
    "\n",
    "https://www.quad9.net/service/service-addresses-and-features\n",
    "\n",
    "https://en.wikipedia.org/wiki/OpenDNS\n",
    "\n",
    "https://mozilla.cloudflare-dns.com/\n",
    "\n",
    "https://1.1.1.1/dns/\n",
    "\n",
    "https://www.sans.org/reading-room/whitepapers/dns/needle-haystack-detecting-dns-https-usage-39160\n",
    "\n",
    "https://youtu.be/144uhgJE3mg"
   ]
  },
  {
   "cell_type": "code",
   "execution_count": null,
   "id": "modified-french",
   "metadata": {},
   "outputs": [],
   "source": []
  }
 ],
 "metadata": {
  "kernelspec": {
   "display_name": "Python 3",
   "language": "python",
   "name": "python3"
  },
  "language_info": {
   "codemirror_mode": {
    "name": "ipython",
    "version": 3
   },
   "file_extension": ".py",
   "mimetype": "text/x-python",
   "name": "python",
   "nbconvert_exporter": "python",
   "pygments_lexer": "ipython3",
   "version": "3.6.9"
  }
 },
 "nbformat": 4,
 "nbformat_minor": 5
}
