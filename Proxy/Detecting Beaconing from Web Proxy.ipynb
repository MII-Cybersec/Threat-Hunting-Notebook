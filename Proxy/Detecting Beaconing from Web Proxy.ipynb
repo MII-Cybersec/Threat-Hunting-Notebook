{
 "cells": [
  {
   "cell_type": "markdown",
   "id": "outer-nepal",
   "metadata": {},
   "source": [
    "# Detecting Beaconing from Web Proxy\n",
    "\n",
    "#### Author: Rifqi Ardia Ramadhan\n",
    "\n",
    "Beaconing in literal meaning is giving signal to be noticed, whether for warnings or for informational purpose. In cyber security, beaconing is when malware communicates to external C2 server asking for instructions or to exfiltrate collected data on some predetermined interval. The main point of beaconing is giving signal to C2 server while at the same time disguising itself so no one would notice that the malware is still on communication with C2 server. This use case will try to hunt for beaconing from web proxy \n",
    "\n",
    "## Usecase\n",
    "### Objective\n",
    "Identify if there is any beaconing happening that is captured by proxy.\n",
    "\n",
    "### Log Requirements\n",
    "Web proxy log. Calculate the source-destination IP pair over the course of 12 or 24 hours.\n",
    "\n",
    "### Characteristics\n",
    "| No | Characteristic | Note | Why|\n",
    "|----|----------------|------|---|\n",
    "|  1 | Unusually high number of the same source-destination pair may indicate beaconing* | | |\n",
    "| 2  | Low or zero time delta (different between one packet to the next) of each request of the source-destination pair||Normal malware is periodically signaling the C2 server with same time interval, while advanced malware may jitter it with random value, but usually not too far.|\n",
    "\n",
    "\\*Note: If you have apply this to public website, this may also indicate web scraping. But that's another topic.\n",
    "\n",
    "### References\n",
    "\n",
    "https://www.ci.security/resources/news/article/purple-team-about-beacons\n",
    "\n",
    "https://mergene.medium.com/threat-hunting-and-detection-with-web-proxy-logs-58094cae3537\n",
    "\n",
    "https://www.logichub.com/automating-threat-hunting-web-proxy-logs-use-case\n"
   ]
  }
 ],
 "metadata": {
  "kernelspec": {
   "display_name": "Python 3",
   "language": "python",
   "name": "python3"
  },
  "language_info": {
   "codemirror_mode": {
    "name": "ipython",
    "version": 3
   },
   "file_extension": ".py",
   "mimetype": "text/x-python",
   "name": "python",
   "nbconvert_exporter": "python",
   "pygments_lexer": "ipython3",
   "version": "3.6.9"
  }
 },
 "nbformat": 4,
 "nbformat_minor": 5
}
