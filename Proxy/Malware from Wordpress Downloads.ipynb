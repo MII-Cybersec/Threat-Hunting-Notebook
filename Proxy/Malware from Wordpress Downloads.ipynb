{
 "cells": [
  {
   "cell_type": "markdown",
   "id": "continental-renewal",
   "metadata": {},
   "source": [
    "# Malware from Wordpress Downloads\n",
    "\n",
    "#### Author: Rifqi Ardia Ramadhan\n",
    "\n",
    "Wordpress is a common framework used by attacker to post malware. Either they make new website or hijack an existing, legitimate wordpress-based website and hosted malware there. One example of this is vstcrack.net where they host cracked application in wordpress-based website and attaching crypto-mining VM with the application. \n",
    "\n",
    "## Usecase\n",
    "### Objective\n",
    "Identify if there is any suspicious download from Wordpress-based website. \n",
    "\n",
    "### Log Requirements\n",
    "Web proxy log. Apply regex below to filter.\n",
    "\n",
    "### Regex\n",
    "`(http|https):\\/\\/.*(wp-|wordpress).*.(exe|bin|zip|jpg|vbs|bat|rar|ps1|doc|docm|xls|xlsm|pptm|rtf|hta|dll|ws|wsf|sct)`\n",
    "\n",
    "### References\n",
    "\n",
    "https://blueteamblog.com/various-threat-hunting-methods-using-web-proxy-logs\n"
   ]
  },
  {
   "cell_type": "code",
   "execution_count": null,
   "id": "frozen-cigarette",
   "metadata": {},
   "outputs": [],
   "source": []
  }
 ],
 "metadata": {
  "kernelspec": {
   "display_name": "Python 3",
   "language": "python",
   "name": "python3"
  },
  "language_info": {
   "codemirror_mode": {
    "name": "ipython",
    "version": 3
   },
   "file_extension": ".py",
   "mimetype": "text/x-python",
   "name": "python",
   "nbconvert_exporter": "python",
   "pygments_lexer": "ipython3",
   "version": "3.6.9"
  }
 },
 "nbformat": 4,
 "nbformat_minor": 5
}
